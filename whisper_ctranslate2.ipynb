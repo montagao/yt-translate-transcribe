{
  "nbformat": 4,
  "nbformat_minor": 0,
  "metadata": {
    "colab": {
      "provenance": [],
      "authorship_tag": "ABX9TyM0iPjcrOcbc2wQuYU+2vPa",
      "include_colab_link": true
    },
    "kernelspec": {
      "name": "python3",
      "display_name": "Python 3"
    },
    "language_info": {
      "name": "python"
    },
    "accelerator": "GPU",
    "gpuClass": "standard"
  },
  "cells": [
    {
      "cell_type": "markdown",
      "metadata": {
        "id": "view-in-github",
        "colab_type": "text"
      },
      "source": [
        "<a href=\"https://colab.research.google.com/github/nicelah/yt-translate-transcribe/blob/main/whisper_ctranslate2.ipynb\" target=\"_parent\"><img src=\"https://colab.research.google.com/assets/colab-badge.svg\" alt=\"Open In Colab\"/></a>"
      ]
    },
    {
      "cell_type": "code",
      "source": [
        "#@title Mount Model from GDrive\n",
        "from google.colab import drive\n",
        "drive.mount('/content/drive')\n",
        "# Your model will be available in the specified path in your Google Drive\n",
        "\n",
        "import shutil\n",
        "\n",
        "# Define the path to the model file in Google Drive\n",
        "drive_model_path = '/content/drive/MyDrive/whisper-ctranslate2/large-v2'\n",
        "\n"
      ],
      "metadata": {
        "id": "p4SqIB_ziSwq"
      },
      "execution_count": null,
      "outputs": []
    },
    {
      "cell_type": "code",
      "execution_count": null,
      "metadata": {
        "id": "trV6sJSBl9C_"
      },
      "outputs": [],
      "source": [
        "#@title Install Deps\n",
        "!pip install whisper-ctranslate2 yt-dlp"
      ]
    },
    {
      "cell_type": "code",
      "source": [
        "#@title Paste Link\n",
        "import os\n",
        "import re\n",
        "import subprocess\n",
        "from IPython.display import display, FileLink\n",
        "import selectors\n",
        "from google.colab import files\n",
        "from ipywidgets import interactive, widgets, VBox, HBox, Layout\n",
        "import multiprocessing\n",
        "\n",
        "# Define a function to run and print commands\n",
        "def run_command(command_args):\n",
        "    # Convert the command arguments to string and print the command\n",
        "    command_str = ' '.join(command_args)\n",
        "    print(f'Running command: {command_str}')\n",
        "    # Run the command using subprocess.Popen\n",
        "    process = subprocess.Popen(command_args, stdout=subprocess.PIPE, stderr=subprocess.PIPE, text=True)\n",
        "    # Set stdout and stderr pipes to non-blocking mode\n",
        "    os.set_blocking(process.stdout.fileno(), False)\n",
        "    os.set_blocking(process.stderr.fileno(), False)\n",
        "    # Create a selector to monitor stdout and stderr pipes\n",
        "    sel = selectors.DefaultSelector()\n",
        "    sel.register(process.stdout, selectors.EVENT_READ, 'stdout')\n",
        "    sel.register(process.stderr, selectors.EVENT_READ, 'stderr')\n",
        "    # Loop to read and print data from stdout and stderr\n",
        "    while True:\n",
        "        events = sel.select()\n",
        "        for key, _ in events:\n",
        "            data = key.fileobj.readline().rstrip()\n",
        "            label = key.data\n",
        "            if data:\n",
        "                print(f'[{label}] {data}')\n",
        "        # Check if the process is finished\n",
        "        if process.poll() is not None:\n",
        "            break\n",
        "    # Close the selector\n",
        "    sel.close()\n",
        "\n",
        "# Define a function to sanitize filenames\n",
        "def sanitize_filename(filename):\n",
        "    # Remove any characters that are not alphanumeric or underscore and replace them with underscore\n",
        "    sanitized_filename = re.sub(r'[^a-zA-Z0-9_]', '_', filename)\n",
        "    return sanitized_filename\n",
        "\n",
        "# Define a function that performs the entire process\n",
        "def process_video(youtube_link, language, task):\n",
        "    # Define the output filename for the mp3 file\n",
        "    video_id = youtube_link.split('watch?v=')[-1]\n",
        "\n",
        "    # Define the output filename as the video ID\n",
        "    output_filename = f'{sanitize_filename(video_id)}'\n",
        "\n",
        "    # Download the mp3 of the YouTube link using yt-dlp tool\n",
        "    download_command = ['yt-dlp', '-x', '--audio-format', 'mp3','-o', f'{output_filename}.mp3', youtube_link]\n",
        "    run_command(download_command)\n",
        "\n",
        "    # Define language code mapping\n",
        "    language_code_mapping = {\n",
        "        'English': 'en',\n",
        "        'Chinese': 'zh',\n",
        "        'French': 'fr',\n",
        "        'Spanish': 'es',\n",
        "        'Korean': 'ko',\n",
        "        'Japanese': 'ja'\n",
        "    }\n",
        "\n",
        "    # Pass the filename of the mp3 into the CLI tool whisper-ctranslate2\n",
        "    translation_command = [\n",
        "        'whisper-ctranslate2',\n",
        "        '--model', 'large-v2',\n",
        "        '--language', language_code_mapping[language],\n",
        "        '--task', task,\n",
        "        '--model_directory', drive_model_path ,\n",
        "        f'{output_filename}.mp3'\n",
        "    ]\n",
        "    run_command(translation_command)\n",
        "\n",
        "    # Use files.download to provide a link for the user to download the filename.srt file\n",
        "    print('Downloading subtitles...')\n",
        "    files.download(f'{output_filename}.srt')\n",
        "\n",
        "# Define a global variable to hold the multiprocessing.Process instance\n",
        "current_process = None\n",
        "\n",
        "# Define form elements\n",
        "youtube_link_input = widgets.Text(description='YouTube link:')\n",
        "language_dropdown = widgets.Dropdown(options=['English', 'Chinese', 'French', 'Spanish', 'Korean', 'Japanese'], description='Language:')\n",
        "task_dropdown = widgets.Dropdown(options=['transcribe', 'translate'], description='Task:')\n",
        "submit_button = widgets.Button(description='Submit', layout=Layout(border='1px solid black'))\n",
        "cancel_button = widgets.Button(description='Cancel', layout=Layout(border='1px solid black'))\n",
        "\n",
        "# Function to be called when the submit button is clicked\n",
        "def on_submit(button):\n",
        "    # Retrieve values from the form widgets\n",
        "    youtube_link = youtube_link_input.value\n",
        "    language = language_dropdown.value\n",
        "    task = task_dropdown.value\n",
        "    \n",
        "    # Call the process_video function with the retrieved values\n",
        "    process_video(youtube_link, language, task)\n",
        "\n",
        "# Function to be called when the cancel button is clicked\n",
        "def on_cancel(button):\n",
        "    # Clear the input fields\n",
        "    youtube_link_input.value = ''\n",
        "    language_dropdown.value = 'English'\n",
        "    task_dropdown.value = 'transcribe'\n",
        "\n",
        "# Bind the on_submit function to the submit button's click event\n",
        "submit_button.on_click(on_submit)\n",
        "\n",
        "# Bind the on_cancel function to the cancel button's click event\n",
        "cancel_button.on_click(on_cancel)\n",
        "\n",
        "# Display the interactive form along with the submit and cancel buttons\n",
        "form_items = [youtube_link_input, language_dropdown, task_dropdown, HBox([submit_button, cancel_button])]\n",
        "form = VBox(form_items)\n",
        "display(form)\n"
      ],
      "metadata": {
        "id": "yKspEhMVmYPp",
        "collapsed": true
      },
      "execution_count": null,
      "outputs": []
    },
    {
      "cell_type": "markdown",
      "source": [],
      "metadata": {
        "id": "dCypgY4mo3N8"
      }
    }
  ]
}